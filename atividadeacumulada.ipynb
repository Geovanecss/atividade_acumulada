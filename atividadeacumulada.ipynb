{
 "cells": [
  {
   "cell_type": "code",
   "execution_count": null,
   "metadata": {},
   "outputs": [],
   "source": [
    "# vogal = ['a','e','i','o','u']\n",
    "# consoante = ['b','c','d','f','g','j','k','l','m','n','p','q','r','s','t','v','w','x','z']\n",
    "\n",
    "vogais = {'a', 'e', 'i', 'o', 'u'}\n",
    "\n",
    "letra = input(\"Digite uma letra:\")\n",
    "if (letra in vogais):\n",
    "    print(\"Vogal\")\n",
    "else:\n",
    "    print(\"Consoante\")    "
   ]
  },
  {
   "cell_type": "code",
   "execution_count": null,
   "metadata": {},
   "outputs": [],
   "source": [
    "produto1 = int(input(\"Quanto custa o p1?\"))\n",
    "produto2 = int(input(\"Quanto custa o p2?\"))\n",
    "produto3 = int(input(\"Quanto custa o p3?\"))\n",
    "\n",
    "if ( produto1 < produto2 and produto1 < produto3):\n",
    "    print(\"O mais barato é o produto 1\")\n",
    "elif (produto2  < produto1 and produto2 < produto3):\n",
    "    print(\"O mais barato é o produto 2\")\n",
    "elif (produto3 < produto2 and produto3 < produto1):\n",
    "    print(\"O mais barato é o produto 3\")\n",
    "else:\n",
    "    print(\"Não há um mais caro\")"
   ]
  },
  {
   "cell_type": "code",
   "execution_count": null,
   "metadata": {},
   "outputs": [],
   "source": [
    "numeros = [int(input(\"Digite um número: \")) for _ in range(3)]\n",
    "\n",
    "numeros.sort(reverse=True)\n",
    "\n",
    "print(numeros)"
   ]
  },
  {
   "cell_type": "code",
   "execution_count": null,
   "metadata": {},
   "outputs": [],
   "source": [
    "# turno = {'m' or 'M', 'v' or 'V', 'n' or 'N'}\n",
    "manha = {'m'}\n",
    "vespertino = {'v'}\n",
    "noturno = {'n'}\n",
    "\n",
    "hora = input(\"Digite a inicial do turno:\")\n",
    "if(hora in manha):\n",
    "    print(\"Bom dia\")\n",
    "elif (hora in vespertino):\n",
    "    print(\"Boa tarde!\")\n",
    "elif(hora in noturno):\n",
    "    print(\"Boa noite!\")\n",
    "else:\n",
    "    print(\"Valor inválido\")"
   ]
  },
  {
   "cell_type": "code",
   "execution_count": null,
   "metadata": {},
   "outputs": [],
   "source": [
    "dia = int(input(\"Qual o dia da semana?\"))\n",
    "if (dia == 1):\n",
    "    print(\"Domingo\")\n",
    "elif (dia == 2):\n",
    "    print(\"Segunda\")\n",
    "elif (dia == 3):\n",
    "    print(\"Terça\")\n",
    "elif (dia == 4):\n",
    "    print(\"Quarta\")\n",
    "elif (dia == 5):\n",
    "    print(\"Quinta\")\n",
    "elif (dia == 6):\n",
    "    print(\"Sexta\")\n",
    "elif (dia == 7):\n",
    "    print(\"Sábado\")\n",
    "else:\n",
    "    print(\"Valor inválido\")    "
   ]
  },
  {
   "cell_type": "code",
   "execution_count": null,
   "metadata": {},
   "outputs": [],
   "source": [
    "nota1 = float(input(\"Qual a 1a nota?\"))\n",
    "nota2 = float(input(\"Qual a 2a nota?\"))\n",
    "\n",
    "media = (nota1 + nota2)\n",
    "conceito = media / 2\n",
    "\n",
    "if(conceito<=10 and conceito>= 9):\n",
    "    print(\"Conceito A, aprovado\",\",\" ,\"notas:\",nota1, \"E\", nota2,\",\", \"Média:\", conceito)\n",
    "elif(conceito<=9 and conceito>= 7.5):\n",
    "    print(\"Conceito B, aprovado\",\",\" ,\"notas:\",nota1, \"E\", nota2,\",\", \"Média:\", conceito)\n",
    "elif(conceito<=6 and conceito>= 7.5):\n",
    "    print(\"Conceito C, aprovado\",\",\" ,\"notas:\",nota1, \"E\", nota2,\",\", \"Média:\", conceito)\n",
    "elif(conceito>=4 and conceito<= 6):\n",
    "    print(\"Conceito D, reprovado\",\",\" ,\"notas:\",nota1, \"E\", nota2,\",\", \"Média:\", conceito)\n",
    "elif(conceito<=4 and conceito>= 0):\n",
    "    print(\"Conceito E, reprovado\",\",\" ,\"notas:\",nota1, \"E\", nota2,\",\", \"Média:\", conceito)\n",
    "else:\n",
    "    print(\"Há algum erro\")"
   ]
  },
  {
   "cell_type": "code",
   "execution_count": null,
   "metadata": {},
   "outputs": [],
   "source": [
    "ano = int(input(\"Qual o ano?\"))\n",
    "\n",
    "if(ano % 4 == 0):\n",
    "    print(\"É bissexto\")\n",
    "else:\n",
    "    print(\"Não é bissexto\")"
   ]
  },
  {
   "cell_type": "code",
   "execution_count": 109,
   "metadata": {},
   "outputs": [
    {
     "name": "stdout",
     "output_type": "stream",
     "text": [
      "O resultado é:  5.0\n",
      "Ímpar\n",
      "Positivo\n",
      "Inteiro\n"
     ]
    }
   ],
   "source": [
    "numero1 = float(input(\"Digite um número: \"))\n",
    "numero2 = float(input(\"Digite outro número: \"))\n",
    "operacao = input(\"Qual operação (+, -, * ou /) você deseja realizar? \")\n",
    "\n",
    "if operacao == \"+\":\n",
    "    resultado = numero1 + numero2\n",
    "elif operacao == \"-\":\n",
    "    resultado = numero1 - numero2\n",
    "elif operacao == \"*\":\n",
    "    resultado = numero1 * numero2\n",
    "elif operacao == \"/\":\n",
    "    resultado = numero1 / numero2\n",
    "else:\n",
    "    resultado = 0\n",
    "\n",
    "print(\"O resultado é: \", resultado)\n",
    "\n",
    "if (resultado // 1) % 2 == 0:\n",
    "    print(\"Par\")\n",
    "else:\n",
    "    print(\"Ímpar\")\n",
    "\n",
    "if resultado >= 0:\n",
    "    print(\"Positivo\")\n",
    "else:\n",
    "    print(\"Negativo\")\n",
    "\n",
    "if resultado % 1 == 0:\n",
    "    print(\"Inteiro\")\n",
    "else:\n",
    "    print(\"Decimal\")"
   ]
  },
  {
   "cell_type": "code",
   "execution_count": 120,
   "metadata": {},
   "outputs": [
    {
     "name": "stdout",
     "output_type": "stream",
     "text": [
      "Valor inválido\n"
     ]
    }
   ],
   "source": [
    "valor = float(input(\"Olá! O valor precisa estar entre 0 e 150. Pode digitar seu valor:\"))\n",
    "\n",
    "if(valor >= 0 and valor <=150):\n",
    "    print(\"Valor válido\")\n",
    "else:\n",
    "    print(\"Valor inválido\")\n"
   ]
  },
  {
   "cell_type": "code",
   "execution_count": 122,
   "metadata": {},
   "outputs": [
    {
     "name": "stdout",
     "output_type": "stream",
     "text": [
      "20.0\n"
     ]
    }
   ],
   "source": [
    "nu1 = float(input(\"Digite o 1o número:\"))\n",
    "nu2 = float(input(\"Digite o 1o número:\"))\n",
    "nu3 = float(input(\"Digite o 3o número:\"))\n",
    "nu4 = float(input(\"Digite o 4o número:\"))\n",
    "nu5 = float(input(\"Digite o 5o número:\"))\n",
    "\n",
    "soma = (nu1 + nu2 + nu3 + nu4 + nu5)\n",
    "media = soma / 5\n",
    "print(media)"
   ]
  },
  {
   "cell_type": "code",
   "execution_count": 129,
   "metadata": {},
   "outputs": [
    {
     "name": "stdout",
     "output_type": "stream",
     "text": [
      "1 não é primo.\n"
     ]
    }
   ],
   "source": [
    "nu1 = int(input(\"Digite um número positivo: \"))\n",
    "\n",
    "if nu1 <= 1:\n",
    "  print(f\"{nu1} não é primo.\")\n",
    "else:\n",
    "  é_primo = True\n",
    "  for i in range(2, int(nu1 ** 0.5) + 1):\n",
    "    if nu1 % i == 0:\n",
    "      é_primo = False\n",
    "      break\n",
    "\n",
    "  if é_primo:\n",
    "    print(f\"{nu1} é primo.\")\n",
    "  else:\n",
    "    print(f\"{nu1} não é um número primo.\")"
   ]
  },
  {
   "cell_type": "code",
   "execution_count": 133,
   "metadata": {},
   "outputs": [
    {
     "name": "stdout",
     "output_type": "stream",
     "text": [
      "Menor temperatura: 2.00\n",
      "Temperatura média: 116.00\n"
     ]
    }
   ],
   "source": [
    "temperatura = [float(input(\"Digite uma temperatura: \")) for _ in range(5)]\n",
    "\n",
    "menor_temperatura = min(temperatura)\n",
    "media_temperatura = sum(temperatura) / len(temperatura)\n",
    "\n",
    "print(f\"Menor temperatura: {menor_temperatura:.2f}\")\n",
    "print(f\"Temperatura média: {media_temperatura:.2f}\")"
   ]
  },
  {
   "cell_type": "code",
   "execution_count": 147,
   "metadata": {},
   "outputs": [
    {
     "name": "stdout",
     "output_type": "stream",
     "text": [
      "40% do salário\n"
     ]
    }
   ],
   "source": [
    "salario1 = int(input(\"Digite os ultimos 12 salarios: \"))\n",
    "salario2 = int(input(\"Digite os ultimos 12 salarios: \"))\n",
    "salario3 = int(input(\"Digite os ultimos 12 salarios: \"))\n",
    "salario4 = int(input(\"Digite os ultimos 12 salarios: \"))\n",
    "salario5 = int(input(\"Digite os ultimos 12 salarios: \"))\n",
    "salario6 = int(input(\"Digite os ultimos 12 salarios: \"))\n",
    "salario7 = int(input(\"Digite os ultimos 12 salarios: \"))\n",
    "salario8 = int(input(\"Digite os ultimos 12 salarios: \"))\n",
    "salario9 = int(input(\"Digite os ultimos 12 salarios: \"))\n",
    "salario10 = int(input(\"Digite os ultimos 12 salarios: \"))\n",
    "salario11 = int(input(\"Digite os ultimos 12 salarios: \"))\n",
    "salario12 = int(input(\"Digite os ultimos 12 salarios: \"))\n",
    "\n",
    "soma = salario1 + salario2 + salario3 + salario4 + salario5 + salario6 + salario7 + salario8 + salario9 + salario10 + salario11 + salario12\n",
    "media = soma/12\n",
    "\n",
    "if(media <= 200):\n",
    "    print(\"Nenhum crédito\")\n",
    "elif(media >= 201 and media <= 400):\n",
    "    print(\"20% do salário\")\n",
    "elif(media >=401 and media <= 600):\n",
    "    print(\"30% do salário\")\n",
    "else:\n",
    "    print(\"40% do salário\")"
   ]
  },
  {
   "cell_type": "code",
   "execution_count": 151,
   "metadata": {},
   "outputs": [
    {
     "name": "stdout",
     "output_type": "stream",
     "text": [
      "Muito jovem\n"
     ]
    }
   ],
   "source": [
    "nome = input(\"Qual seu nome?\")\n",
    "idade = int(input(\"Que ano você nasceu?\"))\n",
    "aposentar = 2024 - idade\n",
    "\n",
    "if(aposentar >= 65):\n",
    "    print(\"Pode se aposentar\")\n",
    "else:\n",
    "    print(\"Muito jovem\")"
   ]
  },
  {
   "cell_type": "code",
   "execution_count": 2,
   "metadata": {},
   "outputs": [
    {
     "name": "stdout",
     "output_type": "stream",
     "text": [
      "\n",
      "Folha de Pagamento:\n",
      "Bruto: R$ 370184009781373097213952.00\n",
      "INSS: R$ 37018400978137310560256.00\n",
      "Imposto de Renda: R$ 99949682640970745643008.00\n",
      "FGTS: R$ 40720241075951042035712.00\n",
      "Líquido: R$ 233215926162265028427776.00\n"
     ]
    }
   ],
   "source": [
    "salario_hora = float(input(\"Digite o valor da sua hora: \"))\n",
    "horas_trabalhadas = float(input(\"Digite a quantidade de horas trabalhadas no mês: \"))\n",
    "\n",
    "bruto = salario_hora * horas_trabalhadas\n",
    "\n",
    "inss = 0.1 * bruto\n",
    "\n",
    "income_tax_deduction = 0\n",
    "if bruto <= 2000:\n",
    "  desconto = 0\n",
    "elif bruto <= 3000:\n",
    "  desconto = 0.08 * (bruto - 2000)\n",
    "elif bruto <= 4000:\n",
    "  desconto = (0.08 * 2000) + (0.18 * (bruto - 3000))\n",
    "else:\n",
    "  desconto = (0.08 * 2000) + (0.18 * 1000) + (0.27 * (bruto - 4000))\n",
    "\n",
    "liquido = bruto - inss - desconto\n",
    "\n",
    "fgts = 0.11 * bruto\n",
    "\n",
    "print(\"\\nFolha de Pagamento:\")\n",
    "print(f\"Bruto: R$ {bruto:.2f}\")\n",
    "print(f\"INSS: R$ {inss:.2f}\")\n",
    "print(f\"Imposto de Renda: R$ {desconto:.2f}\")\n",
    "print(f\"FGTS: R$ {fgts:.2f}\")\n",
    "print(f\"Líquido: R$ {liquido:.2f}\")"
   ]
  }
 ],
 "metadata": {
  "kernelspec": {
   "display_name": "Python 3",
   "language": "python",
   "name": "python3"
  },
  "language_info": {
   "codemirror_mode": {
    "name": "ipython",
    "version": 3
   },
   "file_extension": ".py",
   "mimetype": "text/x-python",
   "name": "python",
   "nbconvert_exporter": "python",
   "pygments_lexer": "ipython3",
   "version": "3.11.9"
  }
 },
 "nbformat": 4,
 "nbformat_minor": 2
}
